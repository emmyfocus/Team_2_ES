{
 "cells": [
  {
   "cell_type": "markdown",
   "id": "f5b66bb9",
   "metadata": {},
   "source": [
    "# **Advance Regrassion Predict**\n",
    "\n",
    "\n",
    "\n",
    "**Team_ES2**:\n",
    "**Menbers:**\n",
    "1. Onyekachukwu Ekesi ( @Onyeka_Ekesi_AC ) - email: onyekaekesi@gmail.com\n",
    "2. Mmatlou Matlakala ( @Mmatlou_Matlakala_AC ) - email: mati.matlakala@gmail.com\n",
    "3. Ibrahim Olasupo ( @Ibrahim_Olasupo_AC ) - email: ibrahim.olasupo@aiesec.net\n",
    "4. Al-Moaruf Olukayode Ajasa ( @Al_Moaruf_Ajasa_AC ) - email: ajasamoruf@gmail.com\n",
    "5. Emmanuel Osayande ( @Emmanuel_Osayande_AC ) - email: emmyfocus12@gmail.com\n",
    "6. Samuel Olaniyi ( @Samuel-Olaniyi_AC ) - email: Olusegunharshur@gmail.com\n",
    "7. ADENIYI ADEYEMO ( @adeniyily ) - email: adeniyily@gmail.com\n",
    "\n",
    "\n",
    "\n"
   ]
  },
  {
   "cell_type": "code",
   "execution_count": null,
   "id": "688adea4",
   "metadata": {},
   "outputs": [],
   "source": []
  },
  {
   "cell_type": "code",
   "execution_count": null,
   "id": "3d7a3176",
   "metadata": {},
   "outputs": [],
   "source": []
  },
  {
   "cell_type": "code",
   "execution_count": null,
   "id": "98903815",
   "metadata": {},
   "outputs": [],
   "source": []
  }
 ],
 "metadata": {
  "kernelspec": {
   "display_name": "Python 3 (ipykernel)",
   "language": "python",
   "name": "python3"
  },
  "language_info": {
   "codemirror_mode": {
    "name": "ipython",
    "version": 3
   },
   "file_extension": ".py",
   "mimetype": "text/x-python",
   "name": "python",
   "nbconvert_exporter": "python",
   "pygments_lexer": "ipython3",
   "version": "3.9.13"
  }
 },
 "nbformat": 4,
 "nbformat_minor": 5
}
