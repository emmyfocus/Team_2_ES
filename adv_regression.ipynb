{
 "cells": [
  {
   "cell_type": "markdown",
   "id": "f5b66bb9",
   "metadata": {},
   "source": [
    "# **Advance Regrassion Predict**\n",
    "\n",
    "**Group : 2301AC_DS_Team_2_ES**\n",
    "\n",
    "**Group Menbers:**\n",
    "1. Al Moaruf Ajasa\n",
    "2. Onyeka Ekesi\n",
    "3. Ibrahim Olasupo\n",
    "4. Mmatlou Matlakala\n",
    "5. Emmanuel Osayande\n",
    "\n",
    "\n"
   ]
  },
  {
   "cell_type": "code",
   "execution_count": null,
   "id": "688adea4",
   "metadata": {},
   "outputs": [],
   "source": []
  },
  {
   "cell_type": "code",
   "execution_count": null,
   "id": "3d7a3176",
   "metadata": {},
   "outputs": [],
   "source": []
  },
  {
   "cell_type": "code",
   "execution_count": null,
   "id": "98903815",
   "metadata": {},
   "outputs": [],
   "source": []
  }
 ],
 "metadata": {
  "kernelspec": {
   "display_name": "Python 3 (ipykernel)",
   "language": "python",
   "name": "python3"
  },
  "language_info": {
   "codemirror_mode": {
    "name": "ipython",
    "version": 3
   },
   "file_extension": ".py",
   "mimetype": "text/x-python",
   "name": "python",
   "nbconvert_exporter": "python",
   "pygments_lexer": "ipython3",
   "version": "3.9.13"
  }
 },
 "nbformat": 4,
 "nbformat_minor": 5
}
